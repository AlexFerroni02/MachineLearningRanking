{
 "cells": [
  {
   "cell_type": "markdown",
   "id": "a0eec48c",
   "metadata": {},
   "source": [
    "# Simulation of clicks \n",
    "\n",
    "For each LOINC query, the system simulates user interaction by generating a series of clicks on the ranked results. The simulation assumes that users are more likely to click on documents with higher similarity to the query, reflecting realistic behavior where relevant results attract more attention. Clicks are assigned probabilistically, with higher-ranked or more similar documents having a greater chance of being selected. The cumulative click counts for each document are then used to adjust their relevance scores, allowing the ranking model to incorporate implicit feedback and better reflect potential user preferences over time."
   ]
  },
  {
   "cell_type": "markdown",
   "id": "80f82d28",
   "metadata": {},
   "source": [
    "Possible queries:\n",
    "- glucose in blood\n",
    "- bilirubin in plasma\n",
    "- White blood cells count"
   ]
  },
  {
   "cell_type": "code",
   "execution_count": 37,
   "id": "b7d3e342",
   "metadata": {},
   "outputs": [
    {
     "name": "stdout",
     "output_type": "stream",
     "text": [
      "                                    long_common_name loinc_num  similarity\n",
      "0  ABO group [Type] in Blood from Blood product u...   14578-9    0.664988\n",
      "1  Blood group antibody screen [Presence] in Seru...     890-4    0.663357\n",
      "2  Blood product unit ID [#] Blood product unit I...     934-0    0.588803\n",
      "3    Blood product type Blood product type ^BPU Type     933-2    0.569553\n",
      "4  Blood product disposition [Type] Blood product...     925-8    0.558776\n",
      "                                     long_common_name loinc_num  similarity  \\\n",
      "0   ABO group [Type] in Blood from Blood product u...   14578-9    0.664988   \n",
      "1   Blood group antibody screen [Presence] in Seru...     890-4    0.663357   \n",
      "2   Blood product unit ID [#] Blood product unit I...     934-0    0.588803   \n",
      "3     Blood product type Blood product type ^BPU Type     933-2    0.569553   \n",
      "4   Blood product disposition [Type] Blood product...     925-8    0.558776   \n",
      "..                                                ...       ...         ...   \n",
      "62  Ampicillin+Sulbactam [Susceptibility] Ampicill...   18865-6    0.137481   \n",
      "63  Ampicillin [Susceptibility] Ampicillin Isolate...   18864-9    0.116232   \n",
      "64  Major crossmatch [interpretation] Major crossm...    1250-0    0.100691   \n",
      "65  Gentamicin [Susceptibility] Gentamicin Isolate...   18928-2    0.060226   \n",
      "66  Cefazolin [Susceptibility] Cefazolin Isolate Susc   18878-9   -0.017738   \n",
      "\n",
      "    simulated_clicks  \n",
      "0                 26  \n",
      "1                 26  \n",
      "2                 20  \n",
      "3                 24  \n",
      "4                 24  \n",
      "..               ...  \n",
      "62                 7  \n",
      "63                 1  \n",
      "64                 6  \n",
      "65                 2  \n",
      "66                 0  \n",
      "\n",
      "[67 rows x 4 columns]\n"
     ]
    }
   ],
   "source": [
    "query = \"White blood cells count\"\n",
    "\n",
    "import os\n",
    "import pandas as pd\n",
    "import numpy as np\n",
    "import random\n",
    "\n",
    "query_filename = f\"starting ranking {query}.xlsx\"\n",
    "file_path = os.path.join(\"data\", query_filename)\n",
    "\n",
    "ranking_df = pd.read_excel(file_path)\n",
    "\n",
    "print(ranking_df.head())\n",
    "\n",
    "\n",
    "# Initialize the simulated clicks column\n",
    "ranking_df['simulated_clicks'] = 0\n",
    "\n",
    "# Make sure similarity values are non-negative\n",
    "similarities = ranking_df['similarity']\n",
    "\n",
    "# Normalize similarity to sum to 1 for probabilities\n",
    "probabilities = similarities / similarities.sum()\n",
    "\n",
    "# Number of total simulated clicks\n",
    "num_clicks = 1000\n",
    "\n",
    "\n",
    "random.seed(2)\n",
    "# Simulate clicks: choose document indices according to probabilities\n",
    "chosen_indices = random.choices(\n",
    "    population=range(len(ranking_df)),\n",
    "    weights=probabilities,\n",
    "    k=num_clicks\n",
    ")\n",
    "\n",
    "# Count clicks for each document\n",
    "click_counts = np.bincount(chosen_indices, minlength=len(ranking_df))\n",
    "\n",
    "# Assign the simulated clicks back to the DataFrame\n",
    "ranking_df['simulated_clicks'] = click_counts\n",
    "\n",
    "# Check result\n",
    "print(ranking_df)\n",
    "\n"
   ]
  },
  {
   "cell_type": "code",
   "execution_count": 38,
   "id": "9d38d31c",
   "metadata": {},
   "outputs": [
    {
     "name": "stdout",
     "output_type": "stream",
     "text": [
      "                                    long_common_name loinc_num  similarity  \\\n",
      "0  ABO group [Type] in Blood from Blood product u...   14578-9    0.664988   \n",
      "1  Blood group antibody screen [Presence] in Seru...     890-4    0.663357   \n",
      "2       ABO group [Type] in Blood ABO group Bld Type     883-9    0.558034   \n",
      "3    Blood product type Blood product type ^BPU Type     933-2    0.569553   \n",
      "4  Blood product disposition [Type] Blood product...     925-8    0.558776   \n",
      "\n",
      "   simulated_clicks  new_relevance  \n",
      "0                26       0.754380  \n",
      "1                26       0.753239  \n",
      "2                27       0.690624  \n",
      "3                24       0.665354  \n",
      "4                24       0.657810  \n"
     ]
    }
   ],
   "source": [
    "from sklearn.preprocessing import MinMaxScaler\n",
    "\n",
    "# Normalize the simulated clicks between 0 and 1\n",
    "scaler = MinMaxScaler()\n",
    "clicks_normalized = scaler.fit_transform(ranking_df[['simulated_clicks']])\n",
    "\n",
    "# Compute new relevance: 70% similarity, 30% clicks\n",
    "ranking_df['new_relevance'] = 0.7 * ranking_df['similarity'] + 0.3 * clicks_normalized.flatten()\n",
    "\n",
    "# Sort the DataFrame by new relevance\n",
    "ranking_df = ranking_df.sort_values(by='new_relevance', ascending=False).reset_index(drop=True)\n",
    "\n",
    "# Check the top results\n",
    "print(ranking_df.head())\n",
    "\n",
    "\n",
    "folder_path = os.path.join(\"data\")\n",
    "os.makedirs(folder_path, exist_ok=True)  # Crea la cartella se non esiste\n",
    "\n",
    "# Definizione del path completo del file\n",
    "output_path = os.path.join(folder_path, f\"click ranking {query}.xlsx\")\n",
    "\n",
    "ranking_df.to_excel(output_path, index=False)\n"
   ]
  }
 ],
 "metadata": {
  "kernelspec": {
   "display_name": "Python 3",
   "language": "python",
   "name": "python3"
  },
  "language_info": {
   "codemirror_mode": {
    "name": "ipython",
    "version": 3
   },
   "file_extension": ".py",
   "mimetype": "text/x-python",
   "name": "python",
   "nbconvert_exporter": "python",
   "pygments_lexer": "ipython3",
   "version": "3.10.12"
  }
 },
 "nbformat": 4,
 "nbformat_minor": 5
}
