{
 "cells": [
  {
   "cell_type": "markdown",
   "id": "5e71edbf",
   "metadata": {},
   "source": [
    "# Evaluating Semantic Relevance Between Queries and LOINC Codes using Text Similarity Analysis"
   ]
  },
  {
   "cell_type": "code",
   "execution_count": 299,
   "id": "c51f9b55",
   "metadata": {},
   "outputs": [],
   "source": [
    "#Libraries\n",
    "import pandas as pd\n",
    "import numpy as np\n",
    "from sklearn.feature_extraction.text import TfidfVectorizer\n",
    "from sklearn.metrics.pairwise import cosine_similarity\n",
    "import re\n",
    "import os\n"
   ]
  },
  {
   "cell_type": "markdown",
   "id": "8192bc50",
   "metadata": {},
   "source": [
    "Possible queries:\n",
    "- glucose in blood\n",
    "- bilirubin in plasma\n",
    "- White blood cells count"
   ]
  },
  {
   "cell_type": "code",
   "execution_count": 300,
   "id": "0e0b8572",
   "metadata": {},
   "outputs": [
    {
     "name": "stdout",
     "output_type": "stream",
     "text": [
      "  loinc_num                                   long_common_name  \\\n",
      "0     934-0                          Blood product unit ID [#]   \n",
      "1    1742-6  Alanine aminotransferase [Enzymatic activity/v...   \n",
      "2   20565-8      Carbon dioxide, total [Moles/volume] in Blood   \n",
      "3    1959-6                Bicarbonate [Moles/volume] in Blood   \n",
      "4   18906-8                     Ciprofloxacin [Susceptibility]   \n",
      "\n",
      "                  component    system property  \n",
      "0     Blood product unit ID      Dose      Num  \n",
      "1  Alanine aminotransferase  Ser/Plas     CCnc  \n",
      "2            Carbon dioxide       Bld     SCnc  \n",
      "3               Bicarbonate       Bld     SCnc  \n",
      "4             Ciprofloxacin   Isolate     Susc  \n",
      "Index(['loinc_num', 'long_common_name', 'component', 'system', 'property'], dtype='object')\n",
      "Index(['long_common_name', 'component', 'system', 'property'], dtype='object')\n"
     ]
    }
   ],
   "source": [
    "#Dataset file\n",
    "###################### modify each time you want to perform a new query on a different sheet of the file excel\n",
    "query = 'bilirubin in plasma'  \n",
    "\n",
    "Dataset_path = r'/home/gabriele/Desktop/Polima/Biomedical Informatic/MachineLearningRanking-main/data/loinc_dataset-v2.xlsx'\n",
    "Dataset = pd.read_excel(Dataset_path, header=2, sheet_name=query) #removing the first 2 columns (metadata)\n",
    "\n",
    "print(Dataset.head())\n",
    "print(Dataset.columns)\n",
    "\n",
    "Dataset_loinc_num = Dataset.pop('loinc_num')\n",
    "\n",
    "print(Dataset.columns)"
   ]
  },
  {
   "cell_type": "markdown",
   "id": "695b92c1",
   "metadata": {},
   "source": [
    "The interest is on understand how much is initially relevant a document with respect to a query. In order to do this we can use all the informations available from the dataset (common_long_name, component, system, property) to build an initial ranking using a model.\n",
    "\n",
    "The model that can be used is a pretrained Word2Vec model, tuned specifically for this task. The Word2Vec model is useful because it can understand the patterns of semantic relationships and contextual similarity between biomedical terms, even when faced with abbreviations, synonyms, or paraphrasing."
   ]
  },
  {
   "cell_type": "markdown",
   "id": "ed698bdb",
   "metadata": {},
   "source": [
    "Before doing this we need to manage the dataset in order to have clear sentences, joining the columns of long_common_name, component, system, property"
   ]
  },
  {
   "cell_type": "code",
   "execution_count": 301,
   "id": "705d1441",
   "metadata": {},
   "outputs": [
    {
     "name": "stdout",
     "output_type": "stream",
     "text": [
      "['Blood product unit ID [#]' 'Blood product unit ID' 'Dose' 'Num']\n",
      "['Alanine aminotransferase [Enzymatic activity/volume] in Serum or Plasma'\n",
      " 'Alanine aminotransferase' 'Ser/Plas' 'CCnc']\n",
      "['Carbon dioxide, total [Moles/volume] in Blood' 'Carbon dioxide' 'Bld'\n",
      " 'SCnc']\n",
      "\n",
      "\n",
      "['Blood product unit ID [#] Blood product unit ID Dose Num', 'Alanine aminotransferase [Enzymatic activity/volume] in Serum or Plasma Alanine aminotransferase Ser/Plas CCnc', 'Carbon dioxide, total [Moles/volume] in Blood Carbon dioxide Bld SCnc', 'Bicarbonate [Moles/volume] in Blood Bicarbonate Bld SCnc', 'Ciprofloxacin [Susceptibility] Ciprofloxacin Isolate Susc', 'Ampicillin+Sulbactam [Susceptibility] Ampicillin+Sulbactam Isolate Susc', 'Methicillin resistant Staphylococcus aureus [Presence] in Unspecified specimen by Organism specific culture Staphylococcus aureus.methicillin resistant isolate XXX ACnc', 'ABO & Rh group [Type] in Blood ABO+Rh group Bld Type', 'Leukocytes [#/volume] in Blood Leukocytes Bld NCnc', 'Bilirubin.direct [Mass/volume] in Serum or Plasma Bilirubin.glucuronidated+Bilirubin.albumin bound Ser/Plas MCnc', 'Body temperature Body temperature ^Patient Temp', 'C reactive protein [Mass/volume] in Serum or Plasma by High sensitivity method C reactive protein Ser/Plas MCnc', 'Cefazolin [Susceptibility] Cefazolin Isolate Susc', 'Calcium.ionized [Moles/volume] in Blood Calcium.ionized Bld SCnc', 'Bilirubin.total [Mass/volume] in Serum or Plasma Bilirubin Ser/Plas MCnc', 'Cholesterol [Mass/volume] in Serum or Plasma Cholesterol Ser/Plas MCnc', 'Rh [Type] in Blood Rh Bld Type', 'Major crossmatch [interpretation] Major crossmatch Ser/Plas Imp', 'Nitrofurantoin [Susceptibility] Nitrofurantoin Isolate Susc', 'Vancomycin [Susceptibility] Vancomycin Isolate Susc', 'Ampicillin [Susceptibility] Ampicillin Isolate Susc', 'Blood group antibody screen [Presence] in Serum or Plasma Blood group antibody screen Ser/Plas ACnc', 'ABO group [Type] in Blood from Blood product unit ABO group Bld^BPU Type', 'Calcium [Mass/volume] in Serum or Plasma Calcium Ser/Plas MCnc', 'Albumin/Globulin [Mass ratio] in Serum or Plasma Albumin/Globulin Ser/Plas MCrto', 'Carbon dioxide, total [Moles/volume] in Serum or Plasma Carbon dioxide Ser/Plas SCnc', 'ABO group [Type] in Blood ABO group Bld Type', 'Other Antibiotic [Susceptibility] Antibiotic XXX Isolate Susc', 'Bilirubin.indirect [Mass/volume] in Serum or Plasma Bilirubin.non-glucuronidated Ser/Plas MCnc', 'Hepatitis B virus DNA [#/volume] (viral load) in Serum by Probe with signal amplification Hepatitis B virus DNA Ser NCnc', 'Glucose [Mass/volume] in Serum, Plasma or Blood Glucose Ser/Plas/Bld MCnc', 'Glucose [Moles/volume] in Pleural fluid Glucose Plr fld SCnc', 'Bilirubin.indirect [Mass or Moles/volume] in Serum or Plasma Bilirubin.non-glucuronidated Ser/Plas MSCnc', 'Cortisol [Mass/volume] in Serum or Plasma Cortisol Ser/Plas MCnc', 'Carcinoembryonic Ag [Mass/volume] in Serum or Plasma Carcinoembryonic Ag Ser/Plas MCnc', 'Lymphocytes [#/volume] in Blood Lymphocytes Bld NCnc', 'Tyrosine aminotransferase [Mass/volume] in Plasma Tyrosine aminotransferase Plas MCnc', 'Bilirubin.total [Mass/volume] in Synovial fluid Bilirubin Synv fld MCnc', 'Gentamicin [Susceptibility] Gentamicin Isolate Susc', 'Lymphocytes/100 leukocytes in Blood Lymphocytes/100 leukocytes Bld NFr', 'Indirect antiglobulin test.complement specific reagent [Presence] in Serum or Plasma Indirect antiglobulin test.complement specific reagent Ser/Plas ACnc', 'Glucose [Moles/volume] in Serum or Plasma Glucose Ser/Plas SCnc', 'Blood product type Blood product type ^BPU Type', 'Monocytes [#/volume] in Blood Monocytes Bld NCnc', 'Albumin [Mass/volume] in Serum or Plasma Albumin Ser/Plas MCnc', 'Cobalamin (Vitamin B12) [Mass/volume] in Serum Cobalamins Ser MCnc', 'Glucose [Moles/volume] in Serum or Plasma --3 hours post 100 g glucose PO Glucose^3H post 100 g glucose PO Ser/Plas SCnc', 'Glucose [Moles/volume] in Urine Glucose Urine SCnc', 'Choriogonadotropin [Units/volume] in Serum or Plasma Choriogonadotropin Ser/Plas ACnc', 'Blood product disposition [Type] Blood product disposition ^BPU Type', 'Levofloxacin [Susceptibility] Levofloxacin Isolate Susc', 'Choriogonadotropin.beta subunit [Moles/volume] in Serum or Plasma Choriogonadotropin.beta subunit Ser/Plas SCnc', 'Calcium [Moles/volume] corrected for albumin in Serum or Plasma Calcium^^corrected for albumin Ser/Plas SCnc', 'Fasting glucose [Mass or Moles/volume] in Serum or Plasma Glucose^post CFst Ser/Plas MSCnc', 'Chloride [Moles/volume] in Blood Chloride Bld SCnc', 'Alkaline phosphatase [Enzymatic activity/volume] in Serum or Plasma Alkaline phosphatase Ser/Plas CCnc', 'Hematocrit [Volume Fraction] of Blood by Impedance Hematocrit Bld VFr', 'Amylase [Enzymatic activity/volume] in Serum or Plasma Amylase Ser/Plas CCnc', 'Chloride [Moles/volume] in Serum or Plasma Chloride Ser/Plas SCnc', 'Protein C [Mass/volume] in Plasma Protein C Plas MCnc', 'Trimethoprim+Sulfamethoxazole [Susceptibility] Trimethoprim+Sulfamethoxazole Isolate Susc', 'Calcium bilirubinate/Total in Stone Calcium bilirubinate/Total Calculus MFr', 'Aspartate aminotransferase [Enzymatic activity/volume] in Serum or Plasma Aspartate aminotransferase Ser/Plas CCnc', 'Cholesterol in HDL [Mass/volume] in Serum or Plasma Cholesterol.in HDL Ser/Plas MCnc', 'Calcium.ionized [Moles/volume] in Serum or Plasma Calcium.ionized Ser/Plas SCnc', 'Bilirubin.total [Presence] in Unspecified specimen Bilirubin XXX PrThr', 'C reactive protein [Mass/volume] in Serum or Plasma C reactive protein Ser/Plas MCnc']\n",
      "{'Blood product unit ID [#] Blood product unit ID Dose Num': '934-0', 'Alanine aminotransferase [Enzymatic activity/volume] in Serum or Plasma Alanine aminotransferase Ser/Plas CCnc': '1742-6', 'Carbon dioxide, total [Moles/volume] in Blood Carbon dioxide Bld SCnc': '20565-8', 'Bicarbonate [Moles/volume] in Blood Bicarbonate Bld SCnc': '1959-6', 'Ciprofloxacin [Susceptibility] Ciprofloxacin Isolate Susc': '18906-8', 'Ampicillin+Sulbactam [Susceptibility] Ampicillin+Sulbactam Isolate Susc': '18865-6', 'Methicillin resistant Staphylococcus aureus [Presence] in Unspecified specimen by Organism specific culture Staphylococcus aureus.methicillin resistant isolate XXX ACnc': '13317-3', 'ABO & Rh group [Type] in Blood ABO+Rh group Bld Type': '882-1', 'Leukocytes [#/volume] in Blood Leukocytes Bld NCnc': '26464-8', 'Bilirubin.direct [Mass/volume] in Serum or Plasma Bilirubin.glucuronidated+Bilirubin.albumin bound Ser/Plas MCnc': '1968-7', 'Body temperature Body temperature ^Patient Temp': '8310-5', 'C reactive protein [Mass/volume] in Serum or Plasma by High sensitivity method C reactive protein Ser/Plas MCnc': '30522-7', 'Cefazolin [Susceptibility] Cefazolin Isolate Susc': '18878-9', 'Calcium.ionized [Moles/volume] in Blood Calcium.ionized Bld SCnc': '1994-3', 'Bilirubin.total [Mass/volume] in Serum or Plasma Bilirubin Ser/Plas MCnc': '1975-2', 'Cholesterol [Mass/volume] in Serum or Plasma Cholesterol Ser/Plas MCnc': '2093-3', 'Rh [Type] in Blood Rh Bld Type': '10331-7', 'Major crossmatch [interpretation] Major crossmatch Ser/Plas Imp': '1250-0', 'Nitrofurantoin [Susceptibility] Nitrofurantoin Isolate Susc': '18955-5', 'Vancomycin [Susceptibility] Vancomycin Isolate Susc': '19000-9', 'Ampicillin [Susceptibility] Ampicillin Isolate Susc': '18864-9', 'Blood group antibody screen [Presence] in Serum or Plasma Blood group antibody screen Ser/Plas ACnc': '890-4', 'ABO group [Type] in Blood from Blood product unit ABO group Bld^BPU Type': '14578-9', 'Calcium [Mass/volume] in Serum or Plasma Calcium Ser/Plas MCnc': '17861-6', 'Albumin/Globulin [Mass ratio] in Serum or Plasma Albumin/Globulin Ser/Plas MCrto': '1759-0', 'Carbon dioxide, total [Moles/volume] in Serum or Plasma Carbon dioxide Ser/Plas SCnc': '2028-9', 'ABO group [Type] in Blood ABO group Bld Type': '883-9', 'Other Antibiotic [Susceptibility] Antibiotic XXX Isolate Susc': '23658-8', 'Bilirubin.indirect [Mass/volume] in Serum or Plasma Bilirubin.non-glucuronidated Ser/Plas MCnc': '1971-1', 'Hepatitis B virus DNA [#/volume] (viral load) in Serum by Probe with signal amplification Hepatitis B virus DNA Ser NCnc': '20442-0', 'Glucose [Mass/volume] in Serum, Plasma or Blood Glucose Ser/Plas/Bld MCnc': '74774-1', 'Glucose [Moles/volume] in Pleural fluid Glucose Plr fld SCnc': '14747-0', 'Bilirubin.indirect [Mass or Moles/volume] in Serum or Plasma Bilirubin.non-glucuronidated Ser/Plas MSCnc': '35192-4', 'Cortisol [Mass/volume] in Serum or Plasma Cortisol Ser/Plas MCnc': '2143-6', 'Carcinoembryonic Ag [Mass/volume] in Serum or Plasma Carcinoembryonic Ag Ser/Plas MCnc': '2039-6', 'Lymphocytes [#/volume] in Blood Lymphocytes Bld NCnc': '26474-7', 'Tyrosine aminotransferase [Mass/volume] in Plasma Tyrosine aminotransferase Plas MCnc': '3082-5', 'Bilirubin.total [Mass/volume] in Synovial fluid Bilirubin Synv fld MCnc': '14423-8', 'Gentamicin [Susceptibility] Gentamicin Isolate Susc': '18928-2', 'Lymphocytes/100 leukocytes in Blood Lymphocytes/100 leukocytes Bld NFr': '26478-8', 'Indirect antiglobulin test.complement specific reagent [Presence] in Serum or Plasma Indirect antiglobulin test.complement specific reagent Ser/Plas ACnc': '1003-3', 'Glucose [Moles/volume] in Serum or Plasma Glucose Ser/Plas SCnc': '14749-6', 'Blood product type Blood product type ^BPU Type': '933-2', 'Monocytes [#/volume] in Blood Monocytes Bld NCnc': '26484-6', 'Albumin [Mass/volume] in Serum or Plasma Albumin Ser/Plas MCnc': '1751-7', 'Cobalamin (Vitamin B12) [Mass/volume] in Serum Cobalamins Ser MCnc': '2132-9', 'Glucose [Moles/volume] in Serum or Plasma --3 hours post 100 g glucose PO Glucose^3H post 100 g glucose PO Ser/Plas SCnc': '14764-5', 'Glucose [Moles/volume] in Urine Glucose Urine SCnc': '15076-3', 'Choriogonadotropin [Units/volume] in Serum or Plasma Choriogonadotropin Ser/Plas ACnc': '19080-1', 'Blood product disposition [Type] Blood product disposition ^BPU Type': '925-8', 'Levofloxacin [Susceptibility] Levofloxacin Isolate Susc': '20629-2', 'Choriogonadotropin.beta subunit [Moles/volume] in Serum or Plasma Choriogonadotropin.beta subunit Ser/Plas SCnc': '2111-3', 'Calcium [Moles/volume] corrected for albumin in Serum or Plasma Calcium^^corrected for albumin Ser/Plas SCnc': '29265-6', 'Fasting glucose [Mass or Moles/volume] in Serum or Plasma Glucose^post CFst Ser/Plas MSCnc': '35184-1', 'Chloride [Moles/volume] in Blood Chloride Bld SCnc': '2069-3', 'Alkaline phosphatase [Enzymatic activity/volume] in Serum or Plasma Alkaline phosphatase Ser/Plas CCnc': '6768-6', 'Hematocrit [Volume Fraction] of Blood by Impedance Hematocrit Bld VFr': '31100-1', 'Amylase [Enzymatic activity/volume] in Serum or Plasma Amylase Ser/Plas CCnc': '1798-8', 'Chloride [Moles/volume] in Serum or Plasma Chloride Ser/Plas SCnc': '2075-0', 'Protein C [Mass/volume] in Plasma Protein C Plas MCnc': '4671-4', 'Trimethoprim+Sulfamethoxazole [Susceptibility] Trimethoprim+Sulfamethoxazole Isolate Susc': '18998-5', 'Calcium bilirubinate/Total in Stone Calcium bilirubinate/Total Calculus MFr': '54439-5', 'Aspartate aminotransferase [Enzymatic activity/volume] in Serum or Plasma Aspartate aminotransferase Ser/Plas CCnc': '1920-8', 'Cholesterol in HDL [Mass/volume] in Serum or Plasma Cholesterol.in HDL Ser/Plas MCnc': '2085-9', 'Calcium.ionized [Moles/volume] in Serum or Plasma Calcium.ionized Ser/Plas SCnc': '1995-0', 'Bilirubin.total [Presence] in Unspecified specimen Bilirubin XXX PrThr': '33870-7', 'C reactive protein [Mass/volume] in Serum or Plasma C reactive protein Ser/Plas MCnc': '1988-5'}\n",
      "[['blood', 'product', 'unit', 'id', 'blood', 'product', 'unit', 'id', 'dose', 'num'], ['alanine', 'aminotransferase', 'enzymatic', 'activity', 'volume', 'in', 'serum', 'or', 'plasma', 'alanine', 'aminotransferase', 'ser', 'plas', 'ccnc'], ['carbon', 'dioxide', 'total', 'moles', 'volume', 'in', 'blood', 'carbon', 'dioxide', 'bld', 'scnc'], ['bicarbonate', 'moles', 'volume', 'in', 'blood', 'bicarbonate', 'bld', 'scnc'], ['ciprofloxacin', 'susceptibility', 'ciprofloxacin', 'isolate', 'susc'], ['ampicillin', 'sulbactam', 'susceptibility', 'ampicillin', 'sulbactam', 'isolate', 'susc'], ['methicillin', 'resistant', 'staphylococcus', 'aureus', 'presence', 'in', 'unspecified', 'specimen', 'by', 'organism', 'specific', 'culture', 'staphylococcus', 'aureus', 'methicillin', 'resistant', 'isolate', 'xxx', 'acnc'], ['abo', 'rh', 'group', 'type', 'in', 'blood', 'abo', 'rh', 'group', 'bld', 'type'], ['leukocytes', 'volume', 'in', 'blood', 'leukocytes', 'bld', 'ncnc'], ['bilirubin', 'direct', 'mass', 'volume', 'in', 'serum', 'or', 'plasma', 'bilirubin', 'glucuronidated', 'bilirubin', 'albumin', 'bound', 'ser', 'plas', 'mcnc'], ['body', 'temperature', 'body', 'temperature', 'patient', 'temp'], ['c', 'reactive', 'protein', 'mass', 'volume', 'in', 'serum', 'or', 'plasma', 'by', 'high', 'sensitivity', 'method', 'c', 'reactive', 'protein', 'ser', 'plas', 'mcnc'], ['cefazolin', 'susceptibility', 'cefazolin', 'isolate', 'susc'], ['calcium', 'ionized', 'moles', 'volume', 'in', 'blood', 'calcium', 'ionized', 'bld', 'scnc'], ['bilirubin', 'total', 'mass', 'volume', 'in', 'serum', 'or', 'plasma', 'bilirubin', 'ser', 'plas', 'mcnc'], ['cholesterol', 'mass', 'volume', 'in', 'serum', 'or', 'plasma', 'cholesterol', 'ser', 'plas', 'mcnc'], ['rh', 'type', 'in', 'blood', 'rh', 'bld', 'type'], ['major', 'crossmatch', 'interpretation', 'major', 'crossmatch', 'ser', 'plas', 'imp'], ['nitrofurantoin', 'susceptibility', 'nitrofurantoin', 'isolate', 'susc'], ['vancomycin', 'susceptibility', 'vancomycin', 'isolate', 'susc'], ['ampicillin', 'susceptibility', 'ampicillin', 'isolate', 'susc'], ['blood', 'group', 'antibody', 'screen', 'presence', 'in', 'serum', 'or', 'plasma', 'blood', 'group', 'antibody', 'screen', 'ser', 'plas', 'acnc'], ['abo', 'group', 'type', 'in', 'blood', 'from', 'blood', 'product', 'unit', 'abo', 'group', 'bld', 'bpu', 'type'], ['calcium', 'mass', 'volume', 'in', 'serum', 'or', 'plasma', 'calcium', 'ser', 'plas', 'mcnc'], ['albumin', 'globulin', 'mass', 'ratio', 'in', 'serum', 'or', 'plasma', 'albumin', 'globulin', 'ser', 'plas', 'mcrto'], ['carbon', 'dioxide', 'total', 'moles', 'volume', 'in', 'serum', 'or', 'plasma', 'carbon', 'dioxide', 'ser', 'plas', 'scnc'], ['abo', 'group', 'type', 'in', 'blood', 'abo', 'group', 'bld', 'type'], ['other', 'antibiotic', 'susceptibility', 'antibiotic', 'xxx', 'isolate', 'susc'], ['bilirubin', 'indirect', 'mass', 'volume', 'in', 'serum', 'or', 'plasma', 'bilirubin', 'non', 'glucuronidated', 'ser', 'plas', 'mcnc'], ['hepatitis', 'b', 'virus', 'dna', 'volume', 'viral', 'load', 'in', 'serum', 'by', 'probe', 'with', 'signal', 'amplification', 'hepatitis', 'b', 'virus', 'dna', 'ser', 'ncnc'], ['glucose', 'mass', 'volume', 'in', 'serum', 'plasma', 'or', 'blood', 'glucose', 'ser', 'plas', 'bld', 'mcnc'], ['glucose', 'moles', 'volume', 'in', 'pleural', 'fluid', 'glucose', 'plr', 'fld', 'scnc'], ['bilirubin', 'indirect', 'mass', 'or', 'moles', 'volume', 'in', 'serum', 'or', 'plasma', 'bilirubin', 'non', 'glucuronidated', 'ser', 'plas', 'mscnc'], ['cortisol', 'mass', 'volume', 'in', 'serum', 'or', 'plasma', 'cortisol', 'ser', 'plas', 'mcnc'], ['carcinoembryonic', 'ag', 'mass', 'volume', 'in', 'serum', 'or', 'plasma', 'carcinoembryonic', 'ag', 'ser', 'plas', 'mcnc'], ['lymphocytes', 'volume', 'in', 'blood', 'lymphocytes', 'bld', 'ncnc'], ['tyrosine', 'aminotransferase', 'mass', 'volume', 'in', 'plasma', 'tyrosine', 'aminotransferase', 'plas', 'mcnc'], ['bilirubin', 'total', 'mass', 'volume', 'in', 'synovial', 'fluid', 'bilirubin', 'synv', 'fld', 'mcnc'], ['gentamicin', 'susceptibility', 'gentamicin', 'isolate', 'susc'], ['lymphocytes', 'leukocytes', 'in', 'blood', 'lymphocytes', 'leukocytes', 'bld', 'nfr'], ['indirect', 'antiglobulin', 'test', 'complement', 'specific', 'reagent', 'presence', 'in', 'serum', 'or', 'plasma', 'indirect', 'antiglobulin', 'test', 'complement', 'specific', 'reagent', 'ser', 'plas', 'acnc'], ['glucose', 'moles', 'volume', 'in', 'serum', 'or', 'plasma', 'glucose', 'ser', 'plas', 'scnc'], ['blood', 'product', 'type', 'blood', 'product', 'type', 'bpu', 'type'], ['monocytes', 'volume', 'in', 'blood', 'monocytes', 'bld', 'ncnc'], ['albumin', 'mass', 'volume', 'in', 'serum', 'or', 'plasma', 'albumin', 'ser', 'plas', 'mcnc'], ['cobalamin', 'vitamin', 'b', 'mass', 'volume', 'in', 'serum', 'cobalamins', 'ser', 'mcnc'], ['glucose', 'moles', 'volume', 'in', 'serum', 'or', 'plasma', 'hours', 'post', 'g', 'glucose', 'po', 'glucose', 'h', 'post', 'g', 'glucose', 'po', 'ser', 'plas', 'scnc'], ['glucose', 'moles', 'volume', 'in', 'urine', 'glucose', 'urine', 'scnc'], ['choriogonadotropin', 'units', 'volume', 'in', 'serum', 'or', 'plasma', 'choriogonadotropin', 'ser', 'plas', 'acnc'], ['blood', 'product', 'disposition', 'type', 'blood', 'product', 'disposition', 'bpu', 'type'], ['levofloxacin', 'susceptibility', 'levofloxacin', 'isolate', 'susc'], ['choriogonadotropin', 'beta', 'subunit', 'moles', 'volume', 'in', 'serum', 'or', 'plasma', 'choriogonadotropin', 'beta', 'subunit', 'ser', 'plas', 'scnc'], ['calcium', 'moles', 'volume', 'corrected', 'for', 'albumin', 'in', 'serum', 'or', 'plasma', 'calcium', 'corrected', 'for', 'albumin', 'ser', 'plas', 'scnc'], ['fasting', 'glucose', 'mass', 'or', 'moles', 'volume', 'in', 'serum', 'or', 'plasma', 'glucose', 'post', 'cfst', 'ser', 'plas', 'mscnc'], ['chloride', 'moles', 'volume', 'in', 'blood', 'chloride', 'bld', 'scnc'], ['alkaline', 'phosphatase', 'enzymatic', 'activity', 'volume', 'in', 'serum', 'or', 'plasma', 'alkaline', 'phosphatase', 'ser', 'plas', 'ccnc'], ['hematocrit', 'volume', 'fraction', 'of', 'blood', 'by', 'impedance', 'hematocrit', 'bld', 'vfr'], ['amylase', 'enzymatic', 'activity', 'volume', 'in', 'serum', 'or', 'plasma', 'amylase', 'ser', 'plas', 'ccnc'], ['chloride', 'moles', 'volume', 'in', 'serum', 'or', 'plasma', 'chloride', 'ser', 'plas', 'scnc'], ['protein', 'c', 'mass', 'volume', 'in', 'plasma', 'protein', 'c', 'plas', 'mcnc'], ['trimethoprim', 'sulfamethoxazole', 'susceptibility', 'trimethoprim', 'sulfamethoxazole', 'isolate', 'susc'], ['calcium', 'bilirubinate', 'total', 'in', 'stone', 'calcium', 'bilirubinate', 'total', 'calculus', 'mfr'], ['aspartate', 'aminotransferase', 'enzymatic', 'activity', 'volume', 'in', 'serum', 'or', 'plasma', 'aspartate', 'aminotransferase', 'ser', 'plas', 'ccnc'], ['cholesterol', 'in', 'hdl', 'mass', 'volume', 'in', 'serum', 'or', 'plasma', 'cholesterol', 'in', 'hdl', 'ser', 'plas', 'mcnc'], ['calcium', 'ionized', 'moles', 'volume', 'in', 'serum', 'or', 'plasma', 'calcium', 'ionized', 'ser', 'plas', 'scnc'], ['bilirubin', 'total', 'presence', 'in', 'unspecified', 'specimen', 'bilirubin', 'xxx', 'prthr'], ['c', 'reactive', 'protein', 'mass', 'volume', 'in', 'serum', 'or', 'plasma', 'c', 'reactive', 'protein', 'ser', 'plas', 'mcnc']]\n"
     ]
    }
   ],
   "source": [
    "Dataset = Dataset.to_numpy()\n",
    "\n",
    "for i in range(3):\n",
    "    print(Dataset[i])\n",
    "\n",
    "print()\n",
    "print()\n",
    "\n",
    "corpus = [\" \".join(row) for row in Dataset]\n",
    "print(corpus)\n",
    "\n",
    "title_to_loinc = dict(zip(corpus, Dataset_loinc_num))\n",
    "print(title_to_loinc)\n",
    "\n",
    "\n",
    "\n",
    "#Cleaning of phrases\n",
    "sentences = []\n",
    "for sentence in corpus:\n",
    "    sentence = sentence.lower()\n",
    "    sentence = sentence.replace('/',' ')\n",
    "    cleaned_sentence = re.sub(r'[^a-z\\s]', r' ', sentence)\n",
    "    tokens = [token for token in cleaned_sentence.split() if token]\n",
    "    sentences.append(tokens)\n",
    "\n",
    "print(sentences)"
   ]
  },
  {
   "cell_type": "code",
   "execution_count": 302,
   "id": "986fb281",
   "metadata": {},
   "outputs": [
    {
     "name": "stdout",
     "output_type": "stream",
     "text": [
      "['in', 'volume', 'ser', 'plas', 'serum', 'or', 'plasma', 'blood', 'mass', 'mcnc', 'moles', 'glucose', 'bld', 'scnc', 'type', 'bilirubin', 'isolate', 'susceptibility', 'susc', 'calcium', 'group', 'total', 'albumin', 'product', 'abo', 'aminotransferase', 'c', 'protein', 'lymphocytes', 'ampicillin', 'reactive', 'ncnc', 'leukocytes', 'acnc', 'by', 'presence', 'choriogonadotropin', 'cholesterol', 'dioxide', 'carbon', 'ccnc', 'chloride', 'activity', 'enzymatic', 'ionized', 'rh', 'indirect', 'post', 'xxx', 'unit', 'glucuronidated', 'bpu', 'b', 'specific', 'tyrosine', 'corrected', 'subunit', 'beta', 'antibody', 'levofloxacin', 'ciprofloxacin', 'disposition', 'dna', 'urine', 'bicarbonate', 'fld', 'fluid', 'sulbactam', 'for', 'mscnc', 'alkaline', 'phosphatase', 'hematocrit', 'amylase', 'trimethoprim', 'cortisol', 'carcinoembryonic', 'sulfamethoxazole', 'alanine', 'id', 'bilirubinate', 'virus', 'aureus', 'methicillin', 'resistant', 'nitrofurantoin', 'crossmatch', 'major', 'screen', 'gentamicin', 'cefazolin', 'aspartate', 'globulin', 'antiglobulin', 'temperature', 'body', 'test', 'complement', 'reagent', 'monocytes', 'antibiotic', 'g', 'ag', 'po', 'non', 'hepatitis', 'specimen', 'unspecified', 'vancomycin', 'staphylococcus', 'hdl']\n"
     ]
    }
   ],
   "source": [
    "#Libraries for Word2Vec\n",
    "from gensim.models import Word2Vec\n",
    "\n",
    "w2v_model = Word2Vec(sentences, vector_size=50, window=2, min_count=2, workers=4, epochs=10)\n",
    "print(w2v_model.wv.index_to_key)\n",
    "\n"
   ]
  },
  {
   "cell_type": "markdown",
   "id": "dcefead4",
   "metadata": {},
   "source": [
    "Now the word2vec model is trained, so there is the possibility to represent the words as vectors of numer (in this case of size 100).\n",
    "\n",
    "To get a representation of a title is just needed to calculate the mean vector of all the sentences."
   ]
  },
  {
   "cell_type": "code",
   "execution_count": 303,
   "id": "014f871d",
   "metadata": {},
   "outputs": [],
   "source": [
    "from nltk.tokenize import word_tokenize\n",
    "# Function to get the vector representation of a phrase by averaging word vectors\n",
    "def sentence_vector(phrase, model):\n",
    "    words = word_tokenize(phrase.lower())  # Tokenize the phrase into words\n",
    "    #print(words)\n",
    "    word_vectors = [model.wv[word] for word in words if word in model.wv]  # Get vectors for words in the model's vocabulary\n",
    "    #print(len(word_vectors))\n",
    "    #print(word_vectors)\n",
    "\n",
    "    #in this moment we have 300 numbers for each word, then 6*300 numbers (6 matrices)\n",
    "    # due to the fact that we have 6 words\n",
    "\n",
    "    if word_vectors:\n",
    "        #print(len((np.mean(word_vectors, axis=0))))\n",
    "        #we are summing 6 matrices of dimension 1x300, and then dividing everything for 6\n",
    "\n",
    "        return np.mean(word_vectors, axis=0)  # Average the word vectors\n",
    "    else:\n",
    "        return np.zeros(model.vector_size)  # Return a zero vector if no words are in the model\n",
    "\n"
   ]
  },
  {
   "cell_type": "markdown",
   "id": "21c4d7b8",
   "metadata": {},
   "source": [
    "Now it is possible to apply this function easily to all the sentences and get a measure of similarity (like using cosine similarity)"
   ]
  },
  {
   "cell_type": "code",
   "execution_count": 304,
   "id": "a3c7ae96",
   "metadata": {},
   "outputs": [
    {
     "name": "stdout",
     "output_type": "stream",
     "text": [
      "bilirubin in plasma\n",
      "                                    long_common_name loinc_num  similarity\n",
      "0  Bilirubin.direct [Mass/volume] in Serum or Pla...    1968-7    0.802994\n",
      "1  Bilirubin.total [Mass/volume] in Serum or Plas...    1975-2    0.776385\n",
      "2  Bilirubin.indirect [Mass/volume] in Serum or P...    1971-1    0.751710\n",
      "3  Bilirubin.indirect [Mass or Moles/volume] in S...   35192-4    0.746804\n",
      "4  Cholesterol in HDL [Mass/volume] in Serum or P...    2085-9    0.737445\n"
     ]
    }
   ],
   "source": [
    "from sklearn.metrics.pairwise import cosine_similarity\n",
    "\n",
    "\n",
    "query_vec = sentence_vector(query, w2v_model)\n",
    "\n",
    "print(query)\n",
    "#print(query_vec)\n",
    "\n",
    "sentences_vecs = [sentence_vector(\" \".join(sentence), w2v_model) for sentence in sentences]\n",
    "#print(sentences_vecs)\n",
    "\n",
    "similarities = cosine_similarity([query_vec], sentences_vecs).flatten()\n",
    "\n",
    "# Ranking\n",
    "ranking = np.argsort(similarities)[::-1]\n",
    "\n",
    "\n",
    "\n",
    "results = []\n",
    "for i in ranking:\n",
    "    title = corpus[i]\n",
    "    loinc_num = title_to_loinc.get(title, \"NA\")  # prende il numero LOINC, \"NA\" se non trovato\n",
    "    relevance = similarities[i]\n",
    "    results.append([title, loinc_num, relevance])\n",
    "    #print(f\"{title} → LOINC: {loinc_num} → relevance: {relevance:.3f}\")\n",
    "\n",
    "ranking_df = pd.DataFrame(results, columns=['long_common_name', 'loinc_num', 'similarity'])\n",
    "\n",
    "print(ranking_df.head())\n",
    "\n",
    "folder_path = os.path.join(\"data\")\n",
    "os.makedirs(folder_path, exist_ok=True)  # Crea la cartella se non esiste\n",
    "\n",
    "# Definizione del path completo del file\n",
    "output_path = os.path.join(folder_path, f\"starting ranking {query}.xlsx\")\n",
    "\n",
    "ranking_df.to_excel(output_path, index=False)\n",
    "\n"
   ]
  }
 ],
 "metadata": {
  "kernelspec": {
   "display_name": "Python 3",
   "language": "python",
   "name": "python3"
  },
  "language_info": {
   "codemirror_mode": {
    "name": "ipython",
    "version": 3
   },
   "file_extension": ".py",
   "mimetype": "text/x-python",
   "name": "python",
   "nbconvert_exporter": "python",
   "pygments_lexer": "ipython3",
   "version": "3.10.12"
  }
 },
 "nbformat": 4,
 "nbformat_minor": 5
}
