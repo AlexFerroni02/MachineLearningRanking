{
 "cells": [
  {
   "cell_type": "markdown",
   "id": "5e71edbf",
   "metadata": {},
   "source": [
    "# Evaluating Semantic Relevance Between Queries and LOINC Codes using Text Similarity Analysis"
   ]
  },
  {
   "cell_type": "code",
   "execution_count": 279,
   "id": "c51f9b55",
   "metadata": {},
   "outputs": [],
   "source": [
    "#Libraries\n",
    "import pandas as pd\n",
    "import numpy as np\n",
    "from sklearn.feature_extraction.text import TfidfVectorizer\n",
    "from sklearn.metrics.pairwise import cosine_similarity\n",
    "import re\n",
    "import os\n"
   ]
  },
  {
   "cell_type": "markdown",
   "id": "8192bc50",
   "metadata": {},
   "source": [
    "Possible queries:\n",
    "- glucose in blood\n",
    "- bilirubin in plasma\n",
    "- White blood cells count"
   ]
  },
  {
   "cell_type": "code",
   "execution_count": 280,
   "id": "0e0b8572",
   "metadata": {},
   "outputs": [
    {
     "name": "stdout",
     "output_type": "stream",
     "text": [
      "  loinc_num                                   long_common_name  \\\n",
      "0   33870-7  Bilirubin.total [Presence] in Unspecified spec...   \n",
      "1   29265-6  Calcium [Moles/volume] corrected for albumin i...   \n",
      "2   14423-8    Bilirubin.total [Mass/volume] in Synovial fluid   \n",
      "3   23658-8                  Other Antibiotic [Susceptibility]   \n",
      "4   19000-9                        Vancomycin [Susceptibility]   \n",
      "\n",
      "                        component    system property  \n",
      "0                       Bilirubin       XXX    PrThr  \n",
      "1  Calcium^^corrected for albumin  Ser/Plas     SCnc  \n",
      "2                       Bilirubin  Synv fld     MCnc  \n",
      "3                  Antibiotic XXX   Isolate     Susc  \n",
      "4                      Vancomycin   Isolate     Susc  \n",
      "Index(['loinc_num', 'long_common_name', 'component', 'system', 'property'], dtype='object')\n",
      "Index(['long_common_name', 'component', 'system', 'property'], dtype='object')\n"
     ]
    }
   ],
   "source": [
    "#Dataset file\n",
    "###################### modify each time you want to perform a new query on a different sheet of the file excel\n",
    "query = 'White blood cells count'  \n",
    "\n",
    "Dataset_path = r'/home/gabriele/Desktop/Polima/Biomedical Informatic/MachineLearningRanking-main/data/loinc_dataset-v2.xlsx'\n",
    "Dataset = pd.read_excel(Dataset_path, header=2, sheet_name=query) #removing the first 2 columns (metadata)\n",
    "\n",
    "print(Dataset.head())\n",
    "print(Dataset.columns)\n",
    "\n",
    "Dataset_loinc_num = Dataset.pop('loinc_num')\n",
    "\n",
    "print(Dataset.columns)"
   ]
  },
  {
   "cell_type": "markdown",
   "id": "695b92c1",
   "metadata": {},
   "source": [
    "The interest is on understand how much is initially relevant a document with respect to a query. In order to do this we can use all the informations available from the dataset (common_long_name, component, system, property) to build an initial ranking using a model.\n",
    "\n",
    "The model that can be used is a pretrained Word2Vec model, tuned specifically for this task. The Word2Vec model is useful because it can understand the patterns of semantic relationships and contextual similarity between biomedical terms, even when faced with abbreviations, synonyms, or paraphrasing."
   ]
  },
  {
   "cell_type": "markdown",
   "id": "ed698bdb",
   "metadata": {},
   "source": [
    "Before doing this we need to manage the dataset in order to have clear sentences, joining the columns of long_common_name, component, system, property"
   ]
  },
  {
   "cell_type": "code",
   "execution_count": 281,
   "id": "705d1441",
   "metadata": {},
   "outputs": [
    {
     "name": "stdout",
     "output_type": "stream",
     "text": [
      "['Bilirubin.total [Presence] in Unspecified specimen' 'Bilirubin' 'XXX'\n",
      " 'PrThr']\n",
      "['Calcium [Moles/volume] corrected for albumin in Serum or Plasma'\n",
      " 'Calcium^^corrected for albumin' 'Ser/Plas' 'SCnc']\n",
      "['Bilirubin.total [Mass/volume] in Synovial fluid' 'Bilirubin' 'Synv fld'\n",
      " 'MCnc']\n",
      "\n",
      "\n",
      "['Bilirubin.total [Presence] in Unspecified specimen Bilirubin XXX PrThr', 'Calcium [Moles/volume] corrected for albumin in Serum or Plasma Calcium^^corrected for albumin Ser/Plas SCnc', 'Bilirubin.total [Mass/volume] in Synovial fluid Bilirubin Synv fld MCnc', 'Other Antibiotic [Susceptibility] Antibiotic XXX Isolate Susc', 'Vancomycin [Susceptibility] Vancomycin Isolate Susc', 'Glucose [Moles/volume] in Serum or Plasma Glucose Ser/Plas SCnc', 'Aspartate aminotransferase [Enzymatic activity/volume] in Serum or Plasma Aspartate aminotransferase Ser/Plas CCnc', 'Cefazolin [Susceptibility] Cefazolin Isolate Susc', 'Hepatitis B virus DNA [#/volume] (viral load) in Serum by Probe with signal amplification Hepatitis B virus DNA Ser NCnc', 'Albumin [Mass/volume] in Serum or Plasma Albumin Ser/Plas MCnc', 'Methicillin resistant Staphylococcus aureus [Presence] in Unspecified specimen by Organism specific culture Staphylococcus aureus.methicillin resistant isolate XXX ACnc', 'Glucose [Moles/volume] in Urine Glucose Urine SCnc', 'Fasting glucose [Mass or Moles/volume] in Serum or Plasma Glucose^post CFst Ser/Plas MSCnc', 'Cholesterol in HDL [Mass/volume] in Serum or Plasma Cholesterol.in HDL Ser/Plas MCnc', 'Leukocytes [#/volume] in Blood Leukocytes Bld NCnc', 'Blood product disposition [Type] Blood product disposition ^BPU Type', 'Calcium.ionized [Moles/volume] in Blood Calcium.ionized Bld SCnc', 'Amylase [Enzymatic activity/volume] in Serum or Plasma Amylase Ser/Plas CCnc', 'Bicarbonate [Moles/volume] in Blood Bicarbonate Bld SCnc', 'Bilirubin.total [Mass/volume] in Serum or Plasma Bilirubin Ser/Plas MCnc', 'Gentamicin [Susceptibility] Gentamicin Isolate Susc', 'ABO group [Type] in Blood from Blood product unit ABO group Bld^BPU Type', 'Blood product unit ID [#] Blood product unit ID Dose Num', 'Protein C [Mass/volume] in Plasma Protein C Plas MCnc', 'Chloride [Moles/volume] in Blood Chloride Bld SCnc', 'Choriogonadotropin.beta subunit [Moles/volume] in Serum or Plasma Choriogonadotropin.beta subunit Ser/Plas SCnc', 'Calcium [Mass/volume] in Serum or Plasma Calcium Ser/Plas MCnc', 'Chloride [Moles/volume] in Serum or Plasma Chloride Ser/Plas SCnc', 'Blood product type Blood product type ^BPU Type', 'Cobalamin (Vitamin B12) [Mass/volume] in Serum Cobalamins Ser MCnc', 'Choriogonadotropin [Units/volume] in Serum or Plasma Choriogonadotropin Ser/Plas ACnc', 'Lymphocytes/100 leukocytes in Blood Lymphocytes/100 leukocytes Bld NFr', 'Glucose [Moles/volume] in Pleural fluid Glucose Plr fld SCnc', 'Carbon dioxide, total [Moles/volume] in Blood Carbon dioxide Bld SCnc', 'Carbon dioxide, total [Moles/volume] in Serum or Plasma Carbon dioxide Ser/Plas SCnc', 'Nitrofurantoin [Susceptibility] Nitrofurantoin Isolate Susc', 'Cholesterol [Mass/volume] in Serum or Plasma Cholesterol Ser/Plas MCnc', 'Trimethoprim+Sulfamethoxazole [Susceptibility] Trimethoprim+Sulfamethoxazole Isolate Susc', 'Blood group antibody screen [Presence] in Serum or Plasma Blood group antibody screen Ser/Plas ACnc', 'Glucose [Moles/volume] in Serum or Plasma --3 hours post 100 g glucose PO Glucose^3H post 100 g glucose PO Ser/Plas SCnc', 'Cortisol [Mass/volume] in Serum or Plasma Cortisol Ser/Plas MCnc', 'Carcinoembryonic Ag [Mass/volume] in Serum or Plasma Carcinoembryonic Ag Ser/Plas MCnc', 'Bilirubin.indirect [Mass/volume] in Serum or Plasma Bilirubin.non-glucuronidated Ser/Plas MCnc', 'Ciprofloxacin [Susceptibility] Ciprofloxacin Isolate Susc', 'Alkaline phosphatase [Enzymatic activity/volume] in Serum or Plasma Alkaline phosphatase Ser/Plas CCnc', 'C reactive protein [Mass/volume] in Serum or Plasma C reactive protein Ser/Plas MCnc', 'Glucose [Mass/volume] in Serum, Plasma or Blood Glucose Ser/Plas/Bld MCnc', 'Calcium.ionized [Moles/volume] in Serum or Plasma Calcium.ionized Ser/Plas SCnc', 'Albumin/Globulin [Mass ratio] in Serum or Plasma Albumin/Globulin Ser/Plas MCrto', 'Levofloxacin [Susceptibility] Levofloxacin Isolate Susc', 'Bilirubin.direct [Mass/volume] in Serum or Plasma Bilirubin.glucuronidated+Bilirubin.albumin bound Ser/Plas MCnc', 'Bilirubin.indirect [Mass or Moles/volume] in Serum or Plasma Bilirubin.non-glucuronidated Ser/Plas MSCnc', 'ABO group [Type] in Blood ABO group Bld Type', 'Indirect antiglobulin test.complement specific reagent [Presence] in Serum or Plasma Indirect antiglobulin test.complement specific reagent Ser/Plas ACnc', 'Calcium bilirubinate/Total in Stone Calcium bilirubinate/Total Calculus MFr', 'Tyrosine aminotransferase [Mass/volume] in Plasma Tyrosine aminotransferase Plas MCnc', 'C reactive protein [Mass/volume] in Serum or Plasma by High sensitivity method C reactive protein Ser/Plas MCnc', 'Rh [Type] in Blood Rh Bld Type', 'Lymphocytes [#/volume] in Blood Lymphocytes Bld NCnc', 'Body temperature Body temperature ^Patient Temp', 'Hematocrit [Volume Fraction] of Blood by Impedance Hematocrit Bld VFr', 'ABO & Rh group [Type] in Blood ABO+Rh group Bld Type', 'Monocytes [#/volume] in Blood Monocytes Bld NCnc', 'Major crossmatch [interpretation] Major crossmatch Ser/Plas Imp', 'Ampicillin [Susceptibility] Ampicillin Isolate Susc', 'Alanine aminotransferase [Enzymatic activity/volume] in Serum or Plasma Alanine aminotransferase Ser/Plas CCnc', 'Ampicillin+Sulbactam [Susceptibility] Ampicillin+Sulbactam Isolate Susc']\n",
      "{'Bilirubin.total [Presence] in Unspecified specimen Bilirubin XXX PrThr': '33870-7', 'Calcium [Moles/volume] corrected for albumin in Serum or Plasma Calcium^^corrected for albumin Ser/Plas SCnc': '29265-6', 'Bilirubin.total [Mass/volume] in Synovial fluid Bilirubin Synv fld MCnc': '14423-8', 'Other Antibiotic [Susceptibility] Antibiotic XXX Isolate Susc': '23658-8', 'Vancomycin [Susceptibility] Vancomycin Isolate Susc': '19000-9', 'Glucose [Moles/volume] in Serum or Plasma Glucose Ser/Plas SCnc': '14749-6', 'Aspartate aminotransferase [Enzymatic activity/volume] in Serum or Plasma Aspartate aminotransferase Ser/Plas CCnc': '1920-8', 'Cefazolin [Susceptibility] Cefazolin Isolate Susc': '18878-9', 'Hepatitis B virus DNA [#/volume] (viral load) in Serum by Probe with signal amplification Hepatitis B virus DNA Ser NCnc': '20442-0', 'Albumin [Mass/volume] in Serum or Plasma Albumin Ser/Plas MCnc': '1751-7', 'Methicillin resistant Staphylococcus aureus [Presence] in Unspecified specimen by Organism specific culture Staphylococcus aureus.methicillin resistant isolate XXX ACnc': '13317-3', 'Glucose [Moles/volume] in Urine Glucose Urine SCnc': '15076-3', 'Fasting glucose [Mass or Moles/volume] in Serum or Plasma Glucose^post CFst Ser/Plas MSCnc': '35184-1', 'Cholesterol in HDL [Mass/volume] in Serum or Plasma Cholesterol.in HDL Ser/Plas MCnc': '2085-9', 'Leukocytes [#/volume] in Blood Leukocytes Bld NCnc': '26464-8', 'Blood product disposition [Type] Blood product disposition ^BPU Type': '925-8', 'Calcium.ionized [Moles/volume] in Blood Calcium.ionized Bld SCnc': '1994-3', 'Amylase [Enzymatic activity/volume] in Serum or Plasma Amylase Ser/Plas CCnc': '1798-8', 'Bicarbonate [Moles/volume] in Blood Bicarbonate Bld SCnc': '1959-6', 'Bilirubin.total [Mass/volume] in Serum or Plasma Bilirubin Ser/Plas MCnc': '1975-2', 'Gentamicin [Susceptibility] Gentamicin Isolate Susc': '18928-2', 'ABO group [Type] in Blood from Blood product unit ABO group Bld^BPU Type': '14578-9', 'Blood product unit ID [#] Blood product unit ID Dose Num': '934-0', 'Protein C [Mass/volume] in Plasma Protein C Plas MCnc': '4671-4', 'Chloride [Moles/volume] in Blood Chloride Bld SCnc': '2069-3', 'Choriogonadotropin.beta subunit [Moles/volume] in Serum or Plasma Choriogonadotropin.beta subunit Ser/Plas SCnc': '2111-3', 'Calcium [Mass/volume] in Serum or Plasma Calcium Ser/Plas MCnc': '17861-6', 'Chloride [Moles/volume] in Serum or Plasma Chloride Ser/Plas SCnc': '2075-0', 'Blood product type Blood product type ^BPU Type': '933-2', 'Cobalamin (Vitamin B12) [Mass/volume] in Serum Cobalamins Ser MCnc': '2132-9', 'Choriogonadotropin [Units/volume] in Serum or Plasma Choriogonadotropin Ser/Plas ACnc': '19080-1', 'Lymphocytes/100 leukocytes in Blood Lymphocytes/100 leukocytes Bld NFr': '26478-8', 'Glucose [Moles/volume] in Pleural fluid Glucose Plr fld SCnc': '14747-0', 'Carbon dioxide, total [Moles/volume] in Blood Carbon dioxide Bld SCnc': '20565-8', 'Carbon dioxide, total [Moles/volume] in Serum or Plasma Carbon dioxide Ser/Plas SCnc': '2028-9', 'Nitrofurantoin [Susceptibility] Nitrofurantoin Isolate Susc': '18955-5', 'Cholesterol [Mass/volume] in Serum or Plasma Cholesterol Ser/Plas MCnc': '2093-3', 'Trimethoprim+Sulfamethoxazole [Susceptibility] Trimethoprim+Sulfamethoxazole Isolate Susc': '18998-5', 'Blood group antibody screen [Presence] in Serum or Plasma Blood group antibody screen Ser/Plas ACnc': '890-4', 'Glucose [Moles/volume] in Serum or Plasma --3 hours post 100 g glucose PO Glucose^3H post 100 g glucose PO Ser/Plas SCnc': '14764-5', 'Cortisol [Mass/volume] in Serum or Plasma Cortisol Ser/Plas MCnc': '2143-6', 'Carcinoembryonic Ag [Mass/volume] in Serum or Plasma Carcinoembryonic Ag Ser/Plas MCnc': '2039-6', 'Bilirubin.indirect [Mass/volume] in Serum or Plasma Bilirubin.non-glucuronidated Ser/Plas MCnc': '1971-1', 'Ciprofloxacin [Susceptibility] Ciprofloxacin Isolate Susc': '18906-8', 'Alkaline phosphatase [Enzymatic activity/volume] in Serum or Plasma Alkaline phosphatase Ser/Plas CCnc': '6768-6', 'C reactive protein [Mass/volume] in Serum or Plasma C reactive protein Ser/Plas MCnc': '1988-5', 'Glucose [Mass/volume] in Serum, Plasma or Blood Glucose Ser/Plas/Bld MCnc': '74774-1', 'Calcium.ionized [Moles/volume] in Serum or Plasma Calcium.ionized Ser/Plas SCnc': '1995-0', 'Albumin/Globulin [Mass ratio] in Serum or Plasma Albumin/Globulin Ser/Plas MCrto': '1759-0', 'Levofloxacin [Susceptibility] Levofloxacin Isolate Susc': '20629-2', 'Bilirubin.direct [Mass/volume] in Serum or Plasma Bilirubin.glucuronidated+Bilirubin.albumin bound Ser/Plas MCnc': '1968-7', 'Bilirubin.indirect [Mass or Moles/volume] in Serum or Plasma Bilirubin.non-glucuronidated Ser/Plas MSCnc': '35192-4', 'ABO group [Type] in Blood ABO group Bld Type': '883-9', 'Indirect antiglobulin test.complement specific reagent [Presence] in Serum or Plasma Indirect antiglobulin test.complement specific reagent Ser/Plas ACnc': '1003-3', 'Calcium bilirubinate/Total in Stone Calcium bilirubinate/Total Calculus MFr': '54439-5', 'Tyrosine aminotransferase [Mass/volume] in Plasma Tyrosine aminotransferase Plas MCnc': '3082-5', 'C reactive protein [Mass/volume] in Serum or Plasma by High sensitivity method C reactive protein Ser/Plas MCnc': '30522-7', 'Rh [Type] in Blood Rh Bld Type': '10331-7', 'Lymphocytes [#/volume] in Blood Lymphocytes Bld NCnc': '26474-7', 'Body temperature Body temperature ^Patient Temp': '8310-5', 'Hematocrit [Volume Fraction] of Blood by Impedance Hematocrit Bld VFr': '31100-1', 'ABO & Rh group [Type] in Blood ABO+Rh group Bld Type': '882-1', 'Monocytes [#/volume] in Blood Monocytes Bld NCnc': '26484-6', 'Major crossmatch [interpretation] Major crossmatch Ser/Plas Imp': '1250-0', 'Ampicillin [Susceptibility] Ampicillin Isolate Susc': '18864-9', 'Alanine aminotransferase [Enzymatic activity/volume] in Serum or Plasma Alanine aminotransferase Ser/Plas CCnc': '1742-6', 'Ampicillin+Sulbactam [Susceptibility] Ampicillin+Sulbactam Isolate Susc': '18865-6'}\n",
      "[['bilirubin', 'total', 'presence', 'in', 'unspecified', 'specimen', 'bilirubin', 'xxx', 'prthr'], ['calcium', 'moles', 'volume', 'corrected', 'for', 'albumin', 'in', 'serum', 'or', 'plasma', 'calcium', 'corrected', 'for', 'albumin', 'ser', 'plas', 'scnc'], ['bilirubin', 'total', 'mass', 'volume', 'in', 'synovial', 'fluid', 'bilirubin', 'synv', 'fld', 'mcnc'], ['other', 'antibiotic', 'susceptibility', 'antibiotic', 'xxx', 'isolate', 'susc'], ['vancomycin', 'susceptibility', 'vancomycin', 'isolate', 'susc'], ['glucose', 'moles', 'volume', 'in', 'serum', 'or', 'plasma', 'glucose', 'ser', 'plas', 'scnc'], ['aspartate', 'aminotransferase', 'enzymatic', 'activity', 'volume', 'in', 'serum', 'or', 'plasma', 'aspartate', 'aminotransferase', 'ser', 'plas', 'ccnc'], ['cefazolin', 'susceptibility', 'cefazolin', 'isolate', 'susc'], ['hepatitis', 'b', 'virus', 'dna', 'volume', 'viral', 'load', 'in', 'serum', 'by', 'probe', 'with', 'signal', 'amplification', 'hepatitis', 'b', 'virus', 'dna', 'ser', 'ncnc'], ['albumin', 'mass', 'volume', 'in', 'serum', 'or', 'plasma', 'albumin', 'ser', 'plas', 'mcnc'], ['methicillin', 'resistant', 'staphylococcus', 'aureus', 'presence', 'in', 'unspecified', 'specimen', 'by', 'organism', 'specific', 'culture', 'staphylococcus', 'aureus', 'methicillin', 'resistant', 'isolate', 'xxx', 'acnc'], ['glucose', 'moles', 'volume', 'in', 'urine', 'glucose', 'urine', 'scnc'], ['fasting', 'glucose', 'mass', 'or', 'moles', 'volume', 'in', 'serum', 'or', 'plasma', 'glucose', 'post', 'cfst', 'ser', 'plas', 'mscnc'], ['cholesterol', 'in', 'hdl', 'mass', 'volume', 'in', 'serum', 'or', 'plasma', 'cholesterol', 'in', 'hdl', 'ser', 'plas', 'mcnc'], ['leukocytes', 'volume', 'in', 'blood', 'leukocytes', 'bld', 'ncnc'], ['blood', 'product', 'disposition', 'type', 'blood', 'product', 'disposition', 'bpu', 'type'], ['calcium', 'ionized', 'moles', 'volume', 'in', 'blood', 'calcium', 'ionized', 'bld', 'scnc'], ['amylase', 'enzymatic', 'activity', 'volume', 'in', 'serum', 'or', 'plasma', 'amylase', 'ser', 'plas', 'ccnc'], ['bicarbonate', 'moles', 'volume', 'in', 'blood', 'bicarbonate', 'bld', 'scnc'], ['bilirubin', 'total', 'mass', 'volume', 'in', 'serum', 'or', 'plasma', 'bilirubin', 'ser', 'plas', 'mcnc'], ['gentamicin', 'susceptibility', 'gentamicin', 'isolate', 'susc'], ['abo', 'group', 'type', 'in', 'blood', 'from', 'blood', 'product', 'unit', 'abo', 'group', 'bld', 'bpu', 'type'], ['blood', 'product', 'unit', 'id', 'blood', 'product', 'unit', 'id', 'dose', 'num'], ['protein', 'c', 'mass', 'volume', 'in', 'plasma', 'protein', 'c', 'plas', 'mcnc'], ['chloride', 'moles', 'volume', 'in', 'blood', 'chloride', 'bld', 'scnc'], ['choriogonadotropin', 'beta', 'subunit', 'moles', 'volume', 'in', 'serum', 'or', 'plasma', 'choriogonadotropin', 'beta', 'subunit', 'ser', 'plas', 'scnc'], ['calcium', 'mass', 'volume', 'in', 'serum', 'or', 'plasma', 'calcium', 'ser', 'plas', 'mcnc'], ['chloride', 'moles', 'volume', 'in', 'serum', 'or', 'plasma', 'chloride', 'ser', 'plas', 'scnc'], ['blood', 'product', 'type', 'blood', 'product', 'type', 'bpu', 'type'], ['cobalamin', 'vitamin', 'b', 'mass', 'volume', 'in', 'serum', 'cobalamins', 'ser', 'mcnc'], ['choriogonadotropin', 'units', 'volume', 'in', 'serum', 'or', 'plasma', 'choriogonadotropin', 'ser', 'plas', 'acnc'], ['lymphocytes', 'leukocytes', 'in', 'blood', 'lymphocytes', 'leukocytes', 'bld', 'nfr'], ['glucose', 'moles', 'volume', 'in', 'pleural', 'fluid', 'glucose', 'plr', 'fld', 'scnc'], ['carbon', 'dioxide', 'total', 'moles', 'volume', 'in', 'blood', 'carbon', 'dioxide', 'bld', 'scnc'], ['carbon', 'dioxide', 'total', 'moles', 'volume', 'in', 'serum', 'or', 'plasma', 'carbon', 'dioxide', 'ser', 'plas', 'scnc'], ['nitrofurantoin', 'susceptibility', 'nitrofurantoin', 'isolate', 'susc'], ['cholesterol', 'mass', 'volume', 'in', 'serum', 'or', 'plasma', 'cholesterol', 'ser', 'plas', 'mcnc'], ['trimethoprim', 'sulfamethoxazole', 'susceptibility', 'trimethoprim', 'sulfamethoxazole', 'isolate', 'susc'], ['blood', 'group', 'antibody', 'screen', 'presence', 'in', 'serum', 'or', 'plasma', 'blood', 'group', 'antibody', 'screen', 'ser', 'plas', 'acnc'], ['glucose', 'moles', 'volume', 'in', 'serum', 'or', 'plasma', 'hours', 'post', 'g', 'glucose', 'po', 'glucose', 'h', 'post', 'g', 'glucose', 'po', 'ser', 'plas', 'scnc'], ['cortisol', 'mass', 'volume', 'in', 'serum', 'or', 'plasma', 'cortisol', 'ser', 'plas', 'mcnc'], ['carcinoembryonic', 'ag', 'mass', 'volume', 'in', 'serum', 'or', 'plasma', 'carcinoembryonic', 'ag', 'ser', 'plas', 'mcnc'], ['bilirubin', 'indirect', 'mass', 'volume', 'in', 'serum', 'or', 'plasma', 'bilirubin', 'non', 'glucuronidated', 'ser', 'plas', 'mcnc'], ['ciprofloxacin', 'susceptibility', 'ciprofloxacin', 'isolate', 'susc'], ['alkaline', 'phosphatase', 'enzymatic', 'activity', 'volume', 'in', 'serum', 'or', 'plasma', 'alkaline', 'phosphatase', 'ser', 'plas', 'ccnc'], ['c', 'reactive', 'protein', 'mass', 'volume', 'in', 'serum', 'or', 'plasma', 'c', 'reactive', 'protein', 'ser', 'plas', 'mcnc'], ['glucose', 'mass', 'volume', 'in', 'serum', 'plasma', 'or', 'blood', 'glucose', 'ser', 'plas', 'bld', 'mcnc'], ['calcium', 'ionized', 'moles', 'volume', 'in', 'serum', 'or', 'plasma', 'calcium', 'ionized', 'ser', 'plas', 'scnc'], ['albumin', 'globulin', 'mass', 'ratio', 'in', 'serum', 'or', 'plasma', 'albumin', 'globulin', 'ser', 'plas', 'mcrto'], ['levofloxacin', 'susceptibility', 'levofloxacin', 'isolate', 'susc'], ['bilirubin', 'direct', 'mass', 'volume', 'in', 'serum', 'or', 'plasma', 'bilirubin', 'glucuronidated', 'bilirubin', 'albumin', 'bound', 'ser', 'plas', 'mcnc'], ['bilirubin', 'indirect', 'mass', 'or', 'moles', 'volume', 'in', 'serum', 'or', 'plasma', 'bilirubin', 'non', 'glucuronidated', 'ser', 'plas', 'mscnc'], ['abo', 'group', 'type', 'in', 'blood', 'abo', 'group', 'bld', 'type'], ['indirect', 'antiglobulin', 'test', 'complement', 'specific', 'reagent', 'presence', 'in', 'serum', 'or', 'plasma', 'indirect', 'antiglobulin', 'test', 'complement', 'specific', 'reagent', 'ser', 'plas', 'acnc'], ['calcium', 'bilirubinate', 'total', 'in', 'stone', 'calcium', 'bilirubinate', 'total', 'calculus', 'mfr'], ['tyrosine', 'aminotransferase', 'mass', 'volume', 'in', 'plasma', 'tyrosine', 'aminotransferase', 'plas', 'mcnc'], ['c', 'reactive', 'protein', 'mass', 'volume', 'in', 'serum', 'or', 'plasma', 'by', 'high', 'sensitivity', 'method', 'c', 'reactive', 'protein', 'ser', 'plas', 'mcnc'], ['rh', 'type', 'in', 'blood', 'rh', 'bld', 'type'], ['lymphocytes', 'volume', 'in', 'blood', 'lymphocytes', 'bld', 'ncnc'], ['body', 'temperature', 'body', 'temperature', 'patient', 'temp'], ['hematocrit', 'volume', 'fraction', 'of', 'blood', 'by', 'impedance', 'hematocrit', 'bld', 'vfr'], ['abo', 'rh', 'group', 'type', 'in', 'blood', 'abo', 'rh', 'group', 'bld', 'type'], ['monocytes', 'volume', 'in', 'blood', 'monocytes', 'bld', 'ncnc'], ['major', 'crossmatch', 'interpretation', 'major', 'crossmatch', 'ser', 'plas', 'imp'], ['ampicillin', 'susceptibility', 'ampicillin', 'isolate', 'susc'], ['alanine', 'aminotransferase', 'enzymatic', 'activity', 'volume', 'in', 'serum', 'or', 'plasma', 'alanine', 'aminotransferase', 'ser', 'plas', 'ccnc'], ['ampicillin', 'sulbactam', 'susceptibility', 'ampicillin', 'sulbactam', 'isolate', 'susc']]\n"
     ]
    }
   ],
   "source": [
    "Dataset = Dataset.to_numpy()\n",
    "\n",
    "for i in range(3):\n",
    "    print(Dataset[i])\n",
    "\n",
    "print()\n",
    "print()\n",
    "\n",
    "corpus = [\" \".join(row) for row in Dataset]\n",
    "print(corpus)\n",
    "\n",
    "title_to_loinc = dict(zip(corpus, Dataset_loinc_num))\n",
    "print(title_to_loinc)\n",
    "\n",
    "\n",
    "\n",
    "#Cleaning of phrases\n",
    "sentences = []\n",
    "for sentence in corpus:\n",
    "    sentence = sentence.lower()\n",
    "    sentence = sentence.replace('/',' ')\n",
    "    cleaned_sentence = re.sub(r'[^a-z\\s]', r' ', sentence)\n",
    "    tokens = [token for token in cleaned_sentence.split() if token]\n",
    "    sentences.append(tokens)\n",
    "\n",
    "print(sentences)"
   ]
  },
  {
   "cell_type": "code",
   "execution_count": 282,
   "id": "986fb281",
   "metadata": {},
   "outputs": [
    {
     "name": "stdout",
     "output_type": "stream",
     "text": [
      "['in', 'volume', 'ser', 'plas', 'serum', 'or', 'plasma', 'blood', 'mass', 'mcnc', 'moles', 'bld', 'glucose', 'bilirubin', 'scnc', 'type', 'isolate', 'susceptibility', 'susc', 'calcium', 'group', 'albumin', 'total', 'product', 'aminotransferase', 'abo', 'protein', 'c', 'indirect', 'choriogonadotropin', 'enzymatic', 'by', 'ncnc', 'reactive', 'acnc', 'cholesterol', 'leukocytes', 'activity', 'rh', 'chloride', 'ionized', 'ccnc', 'lymphocytes', 'ampicillin', 'presence', 'carbon', 'dioxide', 'glucuronidated', 'xxx', 'specific', 'bpu', 'b', 'unit', 'post', 'phosphatase', 'antibiotic', 'aspartate', 'crossmatch', 'unspecified', 'vancomycin', 'specimen', 'globulin', 'levofloxacin', 'for', 'antiglobulin', 'major', 'corrected', 'monocytes', 'fluid', 'test', 'complement', 'reagent', 'hematocrit', 'bilirubinate', 'tyrosine', 'body', 'temperature', 'fld', 'staphylococcus', 'cefazolin', 'hepatitis', 'carcinoembryonic', 'cortisol', 'po', 'g', 'screen', 'antibody', 'sulfamethoxazole', 'trimethoprim', 'nitrofurantoin', 'subunit', 'beta', 'id', 'non', 'gentamicin', 'bicarbonate', 'amylase', 'disposition', 'alanine', 'ciprofloxacin', 'alkaline', 'hdl', 'mscnc', 'urine', 'aureus', 'ag', 'resistant', 'methicillin', 'dna', 'virus', 'sulbactam']\n"
     ]
    }
   ],
   "source": [
    "#Libraries for Word2Vec\n",
    "from gensim.models import Word2Vec\n",
    "\n",
    "w2v_model = Word2Vec(sentences, vector_size=50, window=2, min_count=2, workers=4, epochs=10)\n",
    "print(w2v_model.wv.index_to_key)\n",
    "\n"
   ]
  },
  {
   "cell_type": "markdown",
   "id": "dcefead4",
   "metadata": {},
   "source": [
    "Now the word2vec model is trained, so there is the possibility to represent the words as vectors of numer (in this case of size 100).\n",
    "\n",
    "To get a representation of a title is just needed to calculate the mean vector of all the sentences."
   ]
  },
  {
   "cell_type": "code",
   "execution_count": 283,
   "id": "014f871d",
   "metadata": {},
   "outputs": [],
   "source": [
    "from nltk.tokenize import word_tokenize\n",
    "# Function to get the vector representation of a phrase by averaging word vectors\n",
    "def sentence_vector(phrase, model):\n",
    "    words = word_tokenize(phrase.lower())  # Tokenize the phrase into words\n",
    "    #print(words)\n",
    "    word_vectors = [model.wv[word] for word in words if word in model.wv]  # Get vectors for words in the model's vocabulary\n",
    "    #print(len(word_vectors))\n",
    "    #print(word_vectors)\n",
    "\n",
    "    #in this moment we have 300 numbers for each word, then 6*300 numbers (6 matrices)\n",
    "    # due to the fact that we have 6 words\n",
    "\n",
    "    if word_vectors:\n",
    "        #print(len((np.mean(word_vectors, axis=0))))\n",
    "        #we are summing 6 matrices of dimension 1x300, and then dividing everything for 6\n",
    "\n",
    "        return np.mean(word_vectors, axis=0)  # Average the word vectors\n",
    "    else:\n",
    "        return np.zeros(model.vector_size)  # Return a zero vector if no words are in the model\n",
    "\n"
   ]
  },
  {
   "cell_type": "markdown",
   "id": "21c4d7b8",
   "metadata": {},
   "source": [
    "Now it is possible to apply this function easily to all the sentences and get a measure of similarity (like using cosine similarity)"
   ]
  },
  {
   "cell_type": "code",
   "execution_count": 284,
   "id": "a3c7ae96",
   "metadata": {},
   "outputs": [
    {
     "name": "stdout",
     "output_type": "stream",
     "text": [
      "White blood cells count\n",
      "                                    long_common_name loinc_num  similarity\n",
      "0  ABO group [Type] in Blood from Blood product u...   14578-9    0.664988\n",
      "1  Blood group antibody screen [Presence] in Seru...     890-4    0.663357\n",
      "2  Blood product unit ID [#] Blood product unit I...     934-0    0.588803\n",
      "3    Blood product type Blood product type ^BPU Type     933-2    0.569553\n",
      "4  Blood product disposition [Type] Blood product...     925-8    0.558776\n"
     ]
    }
   ],
   "source": [
    "from sklearn.metrics.pairwise import cosine_similarity\n",
    "\n",
    "\n",
    "query_vec = sentence_vector(query, w2v_model)\n",
    "\n",
    "print(query)\n",
    "#print(query_vec)\n",
    "\n",
    "sentences_vecs = [sentence_vector(\" \".join(sentence), w2v_model) for sentence in sentences]\n",
    "#print(sentences_vecs)\n",
    "\n",
    "similarities = cosine_similarity([query_vec], sentences_vecs).flatten()\n",
    "\n",
    "# Ranking\n",
    "ranking = np.argsort(similarities)[::-1]\n",
    "\n",
    "\n",
    "\n",
    "results = []\n",
    "for i in ranking:\n",
    "    title = corpus[i]\n",
    "    loinc_num = title_to_loinc.get(title, \"NA\")  # prende il numero LOINC, \"NA\" se non trovato\n",
    "    relevance = similarities[i]\n",
    "    results.append([title, loinc_num, relevance])\n",
    "    #print(f\"{title} → LOINC: {loinc_num} → relevance: {relevance:.3f}\")\n",
    "\n",
    "ranking_df = pd.DataFrame(results, columns=['long_common_name', 'loinc_num', 'similarity'])\n",
    "\n",
    "print(ranking_df.head())\n",
    "\n",
    "folder_path = os.path.join(\"data\")\n",
    "os.makedirs(folder_path, exist_ok=True)  # Crea la cartella se non esiste\n",
    "\n",
    "# Definizione del path completo del file\n",
    "output_path = os.path.join(folder_path, f\"ranking {query}.xlsx\")\n",
    "\n",
    "ranking_df.to_excel(output_path, index=False)\n",
    "\n"
   ]
  }
 ],
 "metadata": {
  "kernelspec": {
   "display_name": "Python 3",
   "language": "python",
   "name": "python3"
  },
  "language_info": {
   "codemirror_mode": {
    "name": "ipython",
    "version": 3
   },
   "file_extension": ".py",
   "mimetype": "text/x-python",
   "name": "python",
   "nbconvert_exporter": "python",
   "pygments_lexer": "ipython3",
   "version": "3.10.12"
  }
 },
 "nbformat": 4,
 "nbformat_minor": 5
}
